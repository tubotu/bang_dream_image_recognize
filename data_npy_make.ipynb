{
 "cells": [
  {
   "cell_type": "code",
   "execution_count": 1,
   "metadata": {},
   "outputs": [],
   "source": [
    "from PIL import Image\n",
    "import os, glob\n",
    "import numpy as np\n",
    "# from sklearn import cross_validation\n",
    "from sklearn import model_selection\n",
    "\n",
    "classes = [\"kasumi\", \"arisa\", \"tae\", \"saaya\", \"rimi\"\n",
    "           , \"ran\", \"moka\", \"tomoe\", \"tsugumi\", \"himari\"\n",
    "          , \"aya\", \"tisato\", \"maya\", \"hina\", \"eve\"\n",
    "          , \"yukina\", \"sayo\", \"ako\", \"rinko\", \"risa\"\n",
    "          ,\"kokoro\", \"michelle\", \"kanon\", \"misaki\", \"hagumi\", \"kaoru\"]\n",
    "num_classes = len(classes)\n",
    "\n",
    "# 画像の読み込み\n",
    "X = []\n",
    "Y = []\n",
    "for index, classlabel in enumerate(classes):\n",
    "    photos_dir = \"./\" + classlabel\n",
    "    files = glob.glob(photos_dir + \"/*.jpg\")\n",
    "    for file in files:\n",
    "        image = Image.open(file)\n",
    "        image = image.convert(\"RGB\")\n",
    "        image = image.resize((167, 126))\n",
    "        data = np.asarray(image)\n",
    "        X.append(data)\n",
    "        Y.append(index)\n",
    "\n",
    "X = np.array(X)\n",
    "Y = np.array(Y)\n",
    "X_train, X_test, y_train, y_test = model_selection.train_test_split(X, Y, test_size=0.001)\n",
    "xy = (X_train, X_test, y_train, y_test)\n",
    "np.save(\"./member.npy\", xy)"
   ]
  },
  {
   "cell_type": "code",
   "execution_count": null,
   "metadata": {},
   "outputs": [
    {
     "name": "stdout",
     "output_type": "stream",
     "text": [
      "WARNING:tensorflow:From /home/tubotu/.local/lib/python3.6/site-packages/keras/backend/tensorflow_backend.py:4070: The name tf.nn.max_pool is deprecated. Please use tf.nn.max_pool2d instead.\n",
      "\n"
     ]
    }
   ],
   "source": [
    "from PIL import Image\n",
    "import os, glob\n",
    "import numpy as np\n",
    "from keras.models import load_model\n",
    "input_dir = 'test'\n",
    "\n",
    "X = []\n",
    "\n",
    "\n",
    "files = glob.glob(input_dir + \"/*.jpg\")\n",
    "for file in files:\n",
    "    image = Image.open(file)\n",
    "    image = image.convert(\"RGB\")\n",
    "    image = image.resize((167, 126))\n",
    "    data = np.asarray(image)\n",
    "    X.append(data)\n",
    "\n",
    "X = np.array(X)\n",
    "model = load_model('./member_cnn.h5')\n",
    "\n",
    "predict = model.predict(X)\n",
    "print(predict)\n"
   ]
  },
  {
   "cell_type": "code",
   "execution_count": null,
   "metadata": {},
   "outputs": [],
   "source": []
  }
 ],
 "metadata": {
  "kernelspec": {
   "display_name": "Python 3",
   "language": "python",
   "name": "python3"
  },
  "language_info": {
   "codemirror_mode": {
    "name": "ipython",
    "version": 3
   },
   "file_extension": ".py",
   "mimetype": "text/x-python",
   "name": "python",
   "nbconvert_exporter": "python",
   "pygments_lexer": "ipython3",
   "version": "3.6.8"
  }
 },
 "nbformat": 4,
 "nbformat_minor": 2
}
